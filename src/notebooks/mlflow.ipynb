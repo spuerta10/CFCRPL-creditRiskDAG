{
 "cells": [
  {
   "cell_type": "code",
   "execution_count": null,
   "metadata": {},
   "outputs": [],
   "source": [
    "from time import time\n",
    "\n",
    "import mlflow\n",
    "import pandas as pd\n",
    "from pandas import DataFrame, concat\n",
    "from sklearn.preprocessing import LabelEncoder\n",
    "from sklearn.model_selection import train_test_split\n",
    "from sklearn.metrics import classification_report\n",
    "from xgboost import XGBClassifier"
   ]
  },
  {
   "cell_type": "code",
   "execution_count": null,
   "metadata": {},
   "outputs": [],
   "source": [
    "REMOTE_SERVER_URI = \"http://127.0.0.1:5000\""
   ]
  },
  {
   "cell_type": "code",
   "execution_count": null,
   "metadata": {},
   "outputs": [],
   "source": [
    "def handle_outliers(data: DataFrame, columns: list[str]) -> DataFrame:\n",
    "    if len(columns) == 0:\n",
    "        return data\n",
    "    quartiles = data[columns[0]].quantile([0.25, 0.75])\n",
    "    iqr = quartiles[0.75] - quartiles[0.25]\n",
    "    sever_lower_outliers = quartiles[0.25] -3 * iqr\n",
    "    sever_upper_outliers = quartiles[0.25] +3 * iqr\n",
    "    if sever_upper_outliers > 0 and sever_lower_outliers > 0:  # if there are outliers, get rid of 'em\n",
    "        data = data[(data[columns[0]] > sever_lower_outliers)&(data[columns[0]] < sever_upper_outliers)]\n",
    "    columns.pop(0)\n",
    "    return handle_outliers(data, columns)"
   ]
  },
  {
   "cell_type": "code",
   "execution_count": null,
   "metadata": {},
   "outputs": [],
   "source": [
    "def perform_feature_eng(data: DataFrame) -> DataFrame:\n",
    "    encoded_cols = data.select_dtypes(include=[\"string\"]).apply(lambda x: LabelEncoder().fit_transform(x))\n",
    "    encoded_cols.columns = [f\"encoded_{col}\" for col in encoded_cols.columns]\n",
    "    data = concat([data, encoded_cols], axis =1)\n",
    "    return data.drop(data.select_dtypes(include=[\"string\"]), axis=1)"
   ]
  },
  {
   "cell_type": "code",
   "execution_count": null,
   "metadata": {},
   "outputs": [],
   "source": [
    "mlflow.set_tracking_uri(REMOTE_SERVER_URI)\n",
    "mlflow.set_experiment(\"/xgb_experiment\")\n",
    "with mlflow.start_run():\n",
    "    df = pd.read_csv(r\"..\\..\\data\\credit_risk_dataset.csv\")\n",
    "    mlflow.log_param(\"rawdataset_shape\", df.shape)\n",
    "    mlflow.log_param(\"rawdataset_columns\", df.columns)\n",
    "    mlflow.log_artifact(\"..\\..\\data\\credit_risk_dataset.csv\")\n",
    "    \n",
    "    df = df.convert_dtypes()\n",
    "    df = df.dropna()\n",
    "    df = df.drop_duplicates()\n",
    "    df = handle_outliers(df, columns=df.select_dtypes(include=[\"Int64\", \"Float64\"]).columns.to_list())\n",
    "    \n",
    "    mlflow.log_param(\"preprocesseddataset_shape\", df.shape)\n",
    "    mlflow.log_param(\"preprocesseddataset_columns\", df.columns)\n",
    "    \n",
    "    df = perform_feature_eng(df)\n",
    "    mlflow.log_param(\"processeddataset_shape\", df.shape)\n",
    "    mlflow.log_param(\"processeddataset_columns\", df.columns)\n",
    "    df.to_csv(r\"..\\..\\data\\processed_credit_risk_dataset.csv\")\n",
    "    mlflow.log_artifact(\"..\\..\\data\\processed_credit_risk_dataset.csv\")\n",
    "    \n",
    "    x, y = df.drop([\"loan_status\"], axis=1), df[\"loan_status\"]\n",
    "    x_train, x_test, y_train, y_test = train_test_split(x, y, train_size=0.7)#, random_state=42)\n",
    "    xgb = XGBClassifier()\n",
    "    xgb.fit(x_train, y_train)\n",
    "    mlflow.xgboost.log_model(xgb, \"xgb_model\")\n",
    "    \n",
    "    accuracy = xgb.score(x_test, y_test)\n",
    "    y_pred = xgb.predict(x_test)\n",
    "    report = classification_report(y_test, y_pred)\n",
    "    report_path = r\"..\\..\\data\\classification_report.txt\"\n",
    "    with open(report_path, \"w\") as file:\n",
    "        file.write(report)\n",
    "        \n",
    "    mlflow.log_metric(f\"xgb_experiment/accuracy\", accuracy)\n",
    "    mlflow.log_artifact(report_path)"
   ]
  }
 ],
 "metadata": {
  "language_info": {
   "name": "python"
  }
 },
 "nbformat": 4,
 "nbformat_minor": 2
}
